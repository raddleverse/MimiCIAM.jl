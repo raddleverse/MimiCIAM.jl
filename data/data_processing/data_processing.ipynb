{
 "cells": [
  {
   "cell_type": "markdown",
   "metadata": {},
   "source": [
    "### Data Processing for MimiCIAM - Country-specific Inputs\n",
    "\n",
    "This notebook represents a subset of the data processing steps used for MimiCIAM. Specifically it describes data sources for country-specific data inputs, which were augmented in 06/2022.\n",
    "\n",
    "Lisa Rennels (UC Berkeley) 06/2022 with contributions by Prof. Delavane Diaz"
   ]
  },
  {
   "cell_type": "markdown",
   "metadata": {},
   "source": [
    "#### 1. Construction Cost Index (input/cci.csv)"
   ]
  },
  {
   "cell_type": "markdown",
   "metadata": {},
   "source": [
    "Use the GAMS code below fill in / limit the range. (source data file is 2011WB_ICP.xls using the cci tab)\n",
    "\n",
    "        * Construction cost indices\n",
    "        $CALL gdxxrw.exe construction_country_indices\\2011WB_ICP.xls par=cci rng=cci!h8 rdim=1 cdim=0\n",
    "        $gdxin 2011WB_ICP\n",
    "        $load cci\n",
    "        * correct for missing countries by assuming 1 and restrict factor to 0.5 to 2.5\n",
    "        loop(country,\n",
    "                if(cci(country)=0, cci(country)=1; );\n",
    "                cci(country)=max(0.5,min(2.5,cci(country)));\n",
    "        );       \n",
    "\n",
    "_NOTE: These files were pulled directly from the GAMS CIAM code, and augmented slightly when segment countries were updated. Thus this repository does not currently contain the full replication code in a runnable format._"
   ]
  },
  {
   "cell_type": "markdown",
   "metadata": {},
   "source": [
    "#### 2. GTAP Land Value (input/gtapland.csv)"
   ]
  },
  {
   "cell_type": "markdown",
   "metadata": {},
   "source": [
    "The gtap parameter is read in from the Agland tab cells E4:F191. Note the dollar year adjustment in the code below. (source data file is GTAPagrent.xls using the Agland tab cells E4:F191).\n",
    "\n",
    "        * Land values from GTAP\n",
    "        $onecho > inputlist.txt\n",
    "        par=gtapland rng=Agland!e4:f191 rdim=1 cdim=0\n",
    "        par=countryarea rng=area!a2:b166 rdim=1  cdim=0\n",
    "        $offecho\n",
    "        $CALL gdxxrw.exe GTAPagrent.xls @inputlist.txt\n",
    "        $gdxin GTAPagrent\n",
    "        $load gtapland, countryarea\n",
    "        * $2007M per sq km - I convert to $2010\n",
    "        gtapland(country)=gtapland(country)/0.962;\n",
    "\n",
    "_NOTE: These files were pulled directly from the GAMS CIAM code, and augmented slightly when segment countries were updated. Thus this repository does not currently contain the full replication code in a runnable format._"
   ]
  },
  {
   "cell_type": "markdown",
   "metadata": {},
   "source": [
    "#### 3. Population and GDP (input/pop.csv and input/ypcc.csv)"
   ]
  },
  {
   "cell_type": "markdown",
   "metadata": {},
   "source": [
    "The initial CIAM model relied on demographic inputs from EPRI’s global IAM called  MERGE (Model for Estimating the Regional and Global Effects of Greenhouse Gas Reductions). Some minor adjustments for use in CIAM (i.e., aligning time indices, extrapolating GDP growth after 2100 at a nominal rate, and converting to $2010) were made and exported into a GDX and then csv file `data_processing/MERGEdata.xls`.\n",
    "\n",
    "This Excel spreadsheet was reconfigured to create input files `input/pop.csv` and `input/ypcc.csv`\n",
    "\n",
    "NOTE that the MERGE model does not have data for PSE. For replication purposes we substitute in the SSP2 data, using the OECDEnv-Growth model from sources discussed in Section 4. This is the only model available taht has both populattion and GDP available for `PSE`.\n",
    "\n",
    "These two files are only consequential for replication purposes since these two data files are ONLY used in replication exercises of the CIAM (Diaz et al., 2016), as `MimiCIAM` runs by default with updated SSP data instead of original CIAM MERGE data.\n",
    "\n",
    "_NOTE: These files were pulled directly from the GAMS CIAM code, and modified slightly when segment countries were updated. Thus this repository does not currently contain the full replication code in a runnable format._"
   ]
  },
  {
   "cell_type": "markdown",
   "metadata": {},
   "source": [
    "#### 4. SSP Data (ssp/pop_IIASAGDP_SSPX_v9_130219 and ssp/ypcc_IIASAGDP_SSPX_v9_130219)"
   ]
  },
  {
   "cell_type": "markdown",
   "metadata": {},
   "source": [
    "The SSP Data were downloaded from the [IIASA SSP Database](https://secure.iiasa.ac.at/web-apps/ene/SspDb/dsd?Action=htmlpage&page=about) to the file `data_processing/SspDb_country_data_2013-06-12.csv`, which was then filtered for two variables: Population and GDP|PPP. \n",
    "\n",
    "Starting with `input/pop.csv` and `input/ypcc.csv`, any country available in the IIASA GDP model is replaced with data from the respective SSP/variable combination.\n",
    "\n",
    "This process is done using an R script `data_processing/PrepSSP.R`."
   ]
  },
  {
   "cell_type": "markdown",
   "metadata": {},
   "source": [
    "#### 5. Reference Population Density (input/refpopdens.csv)"
   ]
  },
  {
   "cell_type": "markdown",
   "metadata": {},
   "source": [
    "The weighted average of reference population density of the segments in this region, weighted by area 1 ie. area between 0 and 1 meter."
   ]
  },
  {
   "cell_type": "code",
   "execution_count": 1,
   "metadata": {},
   "outputs": [],
   "source": [
    "using DataFrames\n",
    "using CSVFiles\n",
    "using Query\n",
    "\n",
    "xsc = load(joinpath(@__DIR__, \"../input/xsc.csv\")) |> DataFrame\n",
    "data = load(joinpath(@__DIR__, \"../input/data.csv\")) |> DataFrame\n",
    "\n",
    "regions = load(joinpath(@__DIR__, \"../meta/rgnIDmap.csv\")) |> DataFrame\n",
    "df = DataFrame()\n",
    "for r in regions.rgn\n",
    "    segIDs = (xsc |> @filter(_.rgn == r) |> DataFrame).segID\n",
    "    segNames = (xsc |> @filter(_.rgn == r) |> DataFrame).seg\n",
    "\n",
    "    segData = data |> @filter(_.NA in segNames) |> DataFrame\n",
    "    select!(segData, [\"NA\", \"area1\", \"popdens\"])\n",
    "    insertcols!(segData, :weight => (segData.area1) / sum(segData.area1)) \n",
    "    value = max(1, sum(segData.popdens .* segData.weight))\n",
    "\n",
    "    append!(df, DataFrame(:country => r, :refpopdens => value))\n",
    "end\n",
    "\n",
    "df |> save(joinpath(@__DIR__, \"../input/refpopdens.csv\"))"
   ]
  }
 ],
 "metadata": {
  "kernelspec": {
   "display_name": "Julia 1.6.6",
   "language": "julia",
   "name": "julia-1.6"
  },
  "language_info": {
   "file_extension": ".jl",
   "mimetype": "application/julia",
   "name": "julia",
   "version": "1.6.6"
  },
  "orig_nbformat": 4
 },
 "nbformat": 4,
 "nbformat_minor": 2
}
